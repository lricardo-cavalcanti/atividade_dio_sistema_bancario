{
  "nbformat": 4,
  "nbformat_minor": 0,
  "metadata": {
    "colab": {
      "provenance": [],
      "toc_visible": true,
      "authorship_tag": "ABX9TyNvvyeEZNSY9gLte2VfQYHN"
    },
    "kernelspec": {
      "name": "python3",
      "display_name": "Python 3"
    },
    "language_info": {
      "name": "python"
    }
  },
  "cells": [
    {
      "cell_type": "code",
      "execution_count": 1,
      "metadata": {
        "id": "DPG5O0UoGouS"
      },
      "outputs": [],
      "source": [
        "# Criando as pastas do projeto\n",
        "!mkdir -p image_processing_package/image_processing\n",
        "!mkdir -p image_processing_package/tests\n"
      ]
    },
    {
      "cell_type": "code",
      "source": [
        "%%writefile image_processing_package/image_processing/transformations.py\n",
        "from PIL import Image\n",
        "\n",
        "def resize_image(image_path, size, save_path=None):\n",
        "    image = Image.open(image_path)\n",
        "    resized_image = image.resize(size)\n",
        "    if save_path:\n",
        "        resized_image.save(save_path)\n",
        "    return resized_image\n",
        "\n",
        "def rotate_image(image_path, degrees, save_path=None):\n",
        "    image = Image.open(image_path)\n",
        "    rotated_image = image.rotate(degrees)\n",
        "    if save_path:\n",
        "        rotated_image.save(save_path)\n",
        "    return rotated_image\n"
      ],
      "metadata": {
        "colab": {
          "base_uri": "https://localhost:8080/"
        },
        "id": "QbcBc5pbmQIs",
        "outputId": "b255dbda-dbcc-470b-82c2-d40cb7a354c2"
      },
      "execution_count": 2,
      "outputs": [
        {
          "output_type": "stream",
          "name": "stdout",
          "text": [
            "Writing image_processing_package/image_processing/transformations.py\n"
          ]
        }
      ]
    },
    {
      "cell_type": "code",
      "source": [
        "!pip install Pillow numpy\n"
      ],
      "metadata": {
        "colab": {
          "base_uri": "https://localhost:8080/"
        },
        "id": "ElzHgAlmmf97",
        "outputId": "5628d457-02e1-4ee2-ecd8-462589b5322e"
      },
      "execution_count": 3,
      "outputs": [
        {
          "output_type": "stream",
          "name": "stdout",
          "text": [
            "Requirement already satisfied: Pillow in /usr/local/lib/python3.10/dist-packages (10.4.0)\n",
            "Requirement already satisfied: numpy in /usr/local/lib/python3.10/dist-packages (1.26.4)\n"
          ]
        }
      ]
    },
    {
      "cell_type": "code",
      "source": [
        "from image_processing_package.image_processing.transformations import resize_image, rotate_image\n"
      ],
      "metadata": {
        "id": "nKAoiHSDmisl"
      },
      "execution_count": 4,
      "outputs": []
    },
    {
      "cell_type": "code",
      "source": [],
      "metadata": {
        "id": "xBpsa_fxmyF-"
      },
      "execution_count": null,
      "outputs": []
    }
  ]
}